{
 "cells": [
  {
   "cell_type": "markdown",
   "metadata": {},
   "source": []
  },
  {
   "cell_type": "markdown",
   "metadata": {},
   "source": [
    "# Risk profiles of put option buyer and seller\n",
    "Buying a put option gives you the right, but not the obligation to sell the underlying security at the given strike price, within a specific time period. Therefore a put option payoff at expiration depends on where the underlying price is relative to the put option strike price.\n",
    "\n",
    "In this notebook, we will plot a put buyer's and a put seller's payoff graph for a 900 strike price put on the Infosys stock."
   ]
  },
  {
   "cell_type": "markdown",
   "metadata": {},
   "source": [
    "### Import Libraries "
   ]
  },
  {
   "cell_type": "code",
   "execution_count": 2,
   "metadata": {},
   "outputs": [],
   "source": [
    "import numpy as np \n",
    "import matplotlib.pyplot as plt\n",
    "\n",
    "#for making attractive and informative statistical graphs \n",
    "plt.style.use('seaborn-darkgrid')"
   ]
  },
  {
   "cell_type": "markdown",
   "metadata": {},
   "source": [
    "## Put payoff\n",
    "We define a function put_payoff that calculates the payoff from buying a put option. The function takes sT which is a range of possible values of the stock price at expiration, the strike price of the put option and the premium of the put option as input.\n",
    "\n",
    "It returns a numpy array containing the profit from put option for different stock prices. When the stock price is less than the strike price, the profit is measured as the difference between strike price and stock price, and when the stock price is greater than the strike price then the profit is zero. After this, a put premium is deducted from the pnl to compute the payoff."
   ]
  },
  {
   "cell_type": "code",
   "execution_count": 10,
   "metadata": {},
   "outputs": [],
   "source": [
    "#Payoff function \n",
    "def put_payoff(sT, strike_price, premium):\n",
    "    pnl = np.where(sT<strike_price, strike_price - sT, 0)\n",
    "    return pnl -premium "
   ]
  },
  {
   "cell_type": "markdown",
   "metadata": {},
   "source": [
    "## Define parameters\n",
    "\n",
    "We will define the spot, price, the strike price, premium, and a range of possible values for the infosys stock price at expiration. "
   ]
  },
  {
   "cell_type": "code",
   "execution_count": 11,
   "metadata": {},
   "outputs": [],
   "source": [
    "# Infosys stock price\n",
    "spot_price = 900\n",
    "\n",
    "# Put stike price and cost \n",
    "strike_price = 900\n",
    "premium = 20 \n",
    "\n",
    "#Stock price range at the expiration of the put\n",
    "# we have defined range for the stock price at expiry as +/- 10% from spot price\n",
    "# Syntax: numpy.arange(start price, stop price)\n",
    "sT = np.arange(0.9*spot_price, 1.1*spot_price)"
   ]
  },
  {
   "cell_type": "markdown",
   "metadata": {},
   "source": [
    "## Put Option Buyer Payoff "
   ]
  },
  {
   "cell_type": "code",
   "execution_count": 12,
   "metadata": {},
   "outputs": [
    {
     "data": {
      "image/png": "[encoded data removed]",
      "text/plain": [
       "<Figure size 576x360 with 1 Axes>"
      ]
     },
     "metadata": {
      "needs_background": "light"
     },
     "output_type": "display_data"
    }
   ],
   "source": [
    "payoff_long_put = put_payoff(sT, strike_price, premium)\n",
    "\n",
    "#Plot the graph \n",
    "fig, ax = plt.subplots(figsize = (8, 5))\n",
    "ax.spines['bottom'].set_position('zero')\n",
    "ax.plot(sT, payoff_long_put, label= 'Put option buyer payoff')\n",
    "plt.xlabel('Infosys Stock Price')\n",
    "plt.ylabel('Profit and Loss')\n",
    "plt.legend()\n",
    "plt.show()"
   ]
  },
  {
   "cell_type": "markdown",
   "metadata": {},
   "source": [
    "So what do you observe?\n",
    "\n",
    "1. Even if the price of Infosys goes above the strike price of 900, the max loss seems to be just INR 20/-. Therefore, the loss to the put option buyer is restricted to the extent of the premium he has paid. \n",
    "2. The profit from this put option seem to increase linearly as and when Infosys start to move below the strike price of 900. Therefore, the lower the spot price goes the higher will be the profit. \n",
    "3. Through the put option is supposed to make a profit when the spot price moves below the strike price, the put option buyer first needs to recover the premium he has paid. \n",
    "\n",
    "For the above points, we can say that the buyer of the put option has limited risk and potential to make huge profit. "
   ]
  },
  {
   "cell_type": "code",
   "execution_count": null,
   "metadata": {},
   "outputs": [],
   "source": []
  }
 ],
 "metadata": {
  "kernelspec": {
   "display_name": "Python 3",
   "language": "python",
   "name": "python3"
  },
  "language_info": {
   "codemirror_mode": {
    "name": "ipython",
    "version": 3
   },
   "file_extension": ".py",
   "mimetype": "text/x-python",
   "name": "python",
   "nbconvert_exporter": "python",
   "pygments_lexer": "ipython3",
   "version": "3.7.4"
  }
 },
 "nbformat": 4,
 "nbformat_minor": 2
}
